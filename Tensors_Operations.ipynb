{
 "cells": [
  {
   "cell_type": "markdown",
   "metadata": {},
   "source": [
    "## Tensor Operations\n"
   ]
  },
  {
   "cell_type": "code",
   "execution_count": 1,
   "metadata": {},
   "outputs": [],
   "source": [
    "import torch \n",
    "import numpy \n",
    "import torch.nn.functional as F\n"
   ]
  },
  {
   "cell_type": "markdown",
   "metadata": {},
   "source": [
    "## Bring the index that match a specific element"
   ]
  },
  {
   "cell_type": "code",
   "execution_count": 3,
   "metadata": {},
   "outputs": [],
   "source": [
    "a, b = 10, 0\n",
    "\n",
    "a, b = torch.tensor([a]), torch.tensor([b])\n",
    "\n",
    "\n"
   ]
  },
  {
   "cell_type": "code",
   "execution_count": 4,
   "metadata": {},
   "outputs": [
    {
     "data": {
      "text/plain": [
       "tensor([[ 9,  6,  5,  4, 10],\n",
       "        [ 8,  7,  3,  5,  5],\n",
       "        [ 4,  9, 10, 10, 10],\n",
       "        [10,  9,  7, 10,  2]])"
      ]
     },
     "execution_count": 4,
     "metadata": {},
     "output_type": "execute_result"
    }
   ],
   "source": [
    "x = torch.tensor([[ 9,  6,  5,  4, 10],\n",
    "                  [ 8,  7,  3,  5,  5],\n",
    "                  [ 4,  9, 10, 10, 10],\n",
    "                  [10,  9,  7, 10,  2]])\n",
    "\n",
    "x"
   ]
  },
  {
   "cell_type": "code",
   "execution_count": 5,
   "metadata": {},
   "outputs": [
    {
     "data": {
      "text/plain": [
       "tensor([[ 9,  6,  5,  4, 10, 10],\n",
       "        [ 8,  7,  3,  5,  5, 10],\n",
       "        [ 4,  9, 10, 10, 10, 10],\n",
       "        [10,  9,  7, 10,  2, 10]])"
      ]
     },
     "execution_count": 5,
     "metadata": {},
     "output_type": "execute_result"
    }
   ],
   "source": [
    "x_ = torch.cat([x, a.repeat(x.size(0))[:, None]], axis=1)\n",
    "\n",
    "x_"
   ]
  },
  {
   "cell_type": "code",
   "execution_count": 8,
   "metadata": {},
   "outputs": [
    {
     "data": {
      "text/plain": [
       "tensor([[ 9,  6,  5,  4,  0, 10],\n",
       "        [ 8,  7,  3,  5,  5,  0],\n",
       "        [ 4,  9,  0, 10, 10, 10],\n",
       "        [ 0, 10,  9,  7, 10,  2]])"
      ]
     },
     "execution_count": 8,
     "metadata": {},
     "output_type": "execute_result"
    }
   ],
   "source": [
    "bp_=torch.stack([torch.cat([xi[:bpi], b, xi[bpi:]]) for xi, bpi in zip(x, bp)])\n",
    "bp_"
   ]
  },
  {
   "cell_type": "markdown",
   "metadata": {},
   "source": [
    "## Find the first occurance of the element "
   ]
  },
  {
   "cell_type": "code",
   "execution_count": 11,
   "metadata": {},
   "outputs": [
    {
     "data": {
      "text/plain": [
       "tensor([4, 5, 2, 0])"
      ]
     },
     "execution_count": 11,
     "metadata": {},
     "output_type": "execute_result"
    }
   ],
   "source": [
    "\n",
    "bp = (x_ == a).int().argmax(axis=1)\n",
    "bp"
   ]
  },
  {
   "cell_type": "markdown",
   "metadata": {},
   "source": [
    "## This will insert 0 just before 1st 10"
   ]
  },
  {
   "cell_type": "code",
   "execution_count": 12,
   "metadata": {},
   "outputs": [
    {
     "data": {
      "text/plain": [
       "tensor([[ 9,  6,  5,  4,  0, 10],\n",
       "        [ 8,  7,  3,  5,  5,  0],\n",
       "        [ 4,  9,  0, 10, 10, 10],\n",
       "        [ 0, 10,  9,  7, 10,  2]])"
      ]
     },
     "execution_count": 12,
     "metadata": {},
     "output_type": "execute_result"
    }
   ],
   "source": [
    "bp_=torch.stack([torch.cat([xi[:bpi], b, xi[bpi:]]) for xi, bpi in zip(x, bp)])\n",
    "bp_"
   ]
  },
  {
   "cell_type": "markdown",
   "metadata": {},
   "source": [
    "## Appending an int to a specific index\n"
   ]
  },
  {
   "cell_type": "code",
   "execution_count": 13,
   "metadata": {},
   "outputs": [
    {
     "data": {
      "text/plain": [
       "tensor([[-1.,  1.,  1.,  1.]])"
      ]
     },
     "execution_count": 13,
     "metadata": {},
     "output_type": "execute_result"
    }
   ],
   "source": [
    "x = torch.ones(1,4)\n",
    "index = torch.tensor([0])\n",
    "a = x.index_fill_(1, index, -1)\n",
    "a"
   ]
  },
  {
   "cell_type": "markdown",
   "metadata": {},
   "source": [
    "## Outer product between two tensors preserving the batch size "
   ]
  },
  {
   "cell_type": "code",
   "execution_count": 17,
   "metadata": {},
   "outputs": [
    {
     "name": "stdout",
     "output_type": "stream",
     "text": [
      "[[[ 1.  6.  5.  4.]\n",
      "  [ 3. 18. 15. 12.]\n",
      "  [ 2. 12. 10.  8.]\n",
      "  [ 1.  6.  5.  4.]]]\n",
      "torch.Size([1, 4, 4])\n"
     ]
    }
   ],
   "source": [
    "x = torch.Tensor([[1,6, 5, 4]])\n",
    "y = torch.Tensor([[1,3, 2, 1]])\n",
    "\n",
    "bs_x, x_dim = x.shape\n",
    "bs_y, y_dim = y.shape\n",
    "\n",
    "outer_product = (x.view(bs_x, 1, x_dim) * y.view(bs_y, y_dim, 1))\n",
    "print(outer_product.numpy())\n",
    "print(outer_product.shape)"
   ]
  },
  {
   "cell_type": "markdown",
   "metadata": {},
   "source": [
    "## Expand a tensor and assign a value to that index\n"
   ]
  },
  {
   "cell_type": "code",
   "execution_count": 26,
   "metadata": {},
   "outputs": [
    {
     "name": "stdout",
     "output_type": "stream",
     "text": [
      "torch.Size([1, 14])\n"
     ]
    }
   ],
   "source": [
    "a = torch.tensor([[1,2,3,4,5,6,7,8,9,10,11,12,13,14]])\n",
    "b = torch.tensor([[0]])\n",
    "print(a.shape)"
   ]
  },
  {
   "cell_type": "code",
   "execution_count": 29,
   "metadata": {},
   "outputs": [
    {
     "name": "stdout",
     "output_type": "stream",
     "text": [
      "[[ 1  2  3  4  5  6  7  8  9 10 11 12 13 14  0]]\n",
      "[[ 0  1  2  3  4  5  6  7  8  9 10 11 12 13 14]]\n"
     ]
    }
   ],
   "source": [
    "x =torch.cat((a,b.expand((1,1))),dim=1)\n",
    "print(x.numpy())\n",
    "\n",
    "x = torch.roll(x, 1)\n",
    "x\n",
    "print(x.numpy())"
   ]
  },
  {
   "cell_type": "markdown",
   "metadata": {},
   "source": [
    "## Convert a 2D tensor with shape (3, 4) to a 3D tensor with shape (3, 4, 1)"
   ]
  },
  {
   "cell_type": "code",
   "execution_count": 23,
   "metadata": {},
   "outputs": [
    {
     "data": {
      "text/plain": [
       "torch.Size([3, 4, 1])"
      ]
     },
     "execution_count": 23,
     "metadata": {},
     "output_type": "execute_result"
    }
   ],
   "source": [
    "x = torch.randn(3, 4)\n",
    "x = x[:, :, None]\n",
    "x.shape"
   ]
  },
  {
   "cell_type": "markdown",
   "metadata": {},
   "source": [
    "## Convert a 1D tensor with shape (1) to a 3D tensor with shape (1, 1, 16) "
   ]
  },
  {
   "cell_type": "code",
   "execution_count": 24,
   "metadata": {},
   "outputs": [
    {
     "data": {
      "text/plain": [
       "torch.Size([1, 1, 16])"
      ]
     },
     "execution_count": 24,
     "metadata": {},
     "output_type": "execute_result"
    }
   ],
   "source": [
    "x = torch.randn(16)\n",
    "x = x[None, None]\n",
    "x.shape"
   ]
  },
  {
   "cell_type": "markdown",
   "metadata": {},
   "source": [
    "## Re-shaping tensors using the -1 "
   ]
  },
  {
   "cell_type": "code",
   "execution_count": 10,
   "metadata": {},
   "outputs": [
    {
     "data": {
      "text/plain": [
       "tensor([0, 1, 2, 3, 4, 5])"
      ]
     },
     "execution_count": 10,
     "metadata": {},
     "output_type": "execute_result"
    }
   ],
   "source": [
    "x = torch.arange(6)\n",
    "x"
   ]
  },
  {
   "cell_type": "code",
   "execution_count": 16,
   "metadata": {},
   "outputs": [
    {
     "name": "stdout",
     "output_type": "stream",
     "text": [
      "tensor([[0, 1],\n",
      "        [2, 3],\n",
      "        [4, 5]])\n",
      "torch.Size([3, 2])\n"
     ]
    }
   ],
   "source": [
    "\n",
    "print(x.view(3, -1)) # inferred size will be 2 as 6 / 3 = 2\n",
    "print(x.view(3, -1).shape) # inferred size will be 2 as 6 / 3 = 2"
   ]
  },
  {
   "cell_type": "code",
   "execution_count": 4,
   "metadata": {},
   "outputs": [
    {
     "name": "stdout",
     "output_type": "stream",
     "text": [
      "tensor([[0, 1, 2, 3, 4, 5]])\n"
     ]
    }
   ],
   "source": [
    "print(x.view(-1, 6))      # inferred size will be 1 as 6 / 6 = 1\n"
   ]
  },
  {
   "cell_type": "code",
   "execution_count": 15,
   "metadata": {},
   "outputs": [
    {
     "name": "stdout",
     "output_type": "stream",
     "text": [
      "tensor([[[0, 1],\n",
      "         [2, 3],\n",
      "         [4, 5]]])\n",
      "torch.Size([1, 3, 2])\n"
     ]
    }
   ],
   "source": [
    "print(x.view(1, -1, 2))   # inferred size will be 3 as 6 / (1 * 2) = 3\n",
    "# tensor([[[ 0.,  1.],\n",
    "#          [ 2.,  3.],\n",
    "#          [ 4.,  5.]]])\n",
    "print(x.view(1, -1, 2).shape)   # inferred size will be 3 as 6 / (1 * 2) = 3\n",
    "# tensor([[[ 0.,  1.],\n",
    "#          [ 2.,  3.],\n",
    "#          [ 4.,  5.]]])\n"
   ]
  },
  {
   "cell_type": "code",
   "execution_count": null,
   "metadata": {},
   "outputs": [],
   "source": [
    "\n",
    "\n",
    "# print(x.view(-1, 5))    # throw error as there's no int N so that 5 * N = 6\n",
    "# RuntimeError: invalid argument 2: size '[-1 x 5]' is invalid for input with 6 elements\n",
    "\n",
    "print(x.view(-1, -1, 3))  # throw error as only one dimension can be inferred\n",
    "# RuntimeError: invalid argument 1: only one dimension can be inferred"
   ]
  },
  {
   "cell_type": "code",
   "execution_count": 20,
   "metadata": {},
   "outputs": [],
   "source": [
    "y = torch.randn(2,64,5,5)"
   ]
  },
  {
   "cell_type": "code",
   "execution_count": 42,
   "metadata": {},
   "outputs": [
    {
     "data": {
      "text/plain": [
       "(2, -1, 25)"
      ]
     },
     "execution_count": 42,
     "metadata": {},
     "output_type": "execute_result"
    }
   ],
   "source": [
    "dims = (y.size(0), -1, y.size(2) * x.size(3)) # [2,-1,5*5]\n",
    "dims"
   ]
  },
  {
   "cell_type": "code",
   "execution_count": 43,
   "metadata": {},
   "outputs": [
    {
     "data": {
      "text/plain": [
       "torch.Size([2, 17, 25])"
      ]
     },
     "execution_count": 43,
     "metadata": {},
     "output_type": "execute_result"
    }
   ],
   "source": [
    "c = torch.randn(2,17,5,5)\n",
    "out =c.view(dims)\n",
    "out.shape"
   ]
  },
  {
   "cell_type": "code",
   "execution_count": 166,
   "metadata": {},
   "outputs": [],
   "source": [
    "x = torch.randn(2,64,5,5)"
   ]
  },
  {
   "cell_type": "markdown",
   "metadata": {},
   "source": [
    "### Clone a 1D tnesor to 2D "
   ]
  },
  {
   "cell_type": "code",
   "execution_count": 9,
   "metadata": {},
   "outputs": [
    {
     "name": "stdout",
     "output_type": "stream",
     "text": [
      "x equals: tensor([1, 2, 3, 4, 5]) of shape torch.Size([5])\n",
      "x after cloning cequals:\n",
      " tensor([[1, 1, 1, 1, 1],\n",
      "        [2, 2, 2, 2, 2],\n",
      "        [3, 3, 3, 3, 3],\n",
      "        [4, 4, 4, 4, 4],\n",
      "        [5, 5, 5, 5, 5]]) of shape torch.Size([5, 5])\n",
      "\n",
      " First row of a tensor x equals:\n",
      " tensor([1, 1, 1, 1, 1]) of shape torch.Size([5])\n"
     ]
    }
   ],
   "source": [
    "x = torch.tensor([1,2,3,4,5])\n",
    "print('x equals:',x, 'of shape',x.shape)\n",
    "x_repeate =x.repeat(5,1).T\n",
    "print('x after cloning cequals:\\n',x_repeate, 'of shape',x_repeate.shape)\n",
    "\n",
    "# access the first raw of the tensor\n",
    "fst_row = x_repeate[0][0:]\n",
    "print('\\n First row of a tensor x equals:\\n',fst_row, 'of shape',fst_row.shape)\n"
   ]
  },
  {
   "cell_type": "code",
   "execution_count": null,
   "metadata": {},
   "outputs": [],
   "source": []
  }
 ],
 "metadata": {
  "kernelspec": {
   "display_name": "clamEnv",
   "language": "python",
   "name": "clamenv"
  },
  "language_info": {
   "codemirror_mode": {
    "name": "ipython",
    "version": 3
   },
   "file_extension": ".py",
   "mimetype": "text/x-python",
   "name": "python",
   "nbconvert_exporter": "python",
   "pygments_lexer": "ipython3",
   "version": "3.7.6"
  }
 },
 "nbformat": 4,
 "nbformat_minor": 4
}
